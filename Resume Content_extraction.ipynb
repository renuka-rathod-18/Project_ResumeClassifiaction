{
 "cells": [
  {
   "cell_type": "code",
   "execution_count": 24,
   "id": "c2daf208-e20a-4780-96f1-3e5e27173a02",
   "metadata": {},
   "outputs": [],
   "source": [
    "# !pip install pywin32 \n",
    "# !pip install pdf2docx"
   ]
  },
  {
   "cell_type": "code",
   "execution_count": null,
   "id": "f960bc8b-b222-44fb-a21c-2df2b3fee8f8",
   "metadata": {},
   "outputs": [
    {
     "name": "stdout",
     "output_type": "stream",
     "text": [
      "Converting: E:\\Other Projects\\Resumes_Docx - Copy\\Peoplesoft Resume\\Peoplesoft Admin_Vinod Akkala.doc -> E:\\Other Projects\\Resumes_Docx - Copy\\Peoplesoft Resume\\Peoplesoft Admin_Vinod Akkala.docx\n"
     ]
    }
   ],
   "source": [
    "# Convert all the doc files to docx files\n",
    "import os\n",
    "import win32com.client\n",
    "\n",
    "def convert_doc_to_docx(doc_path):\n",
    "    \"\"\"Converts a .doc file to .docx in the same directory.\"\"\"\n",
    "    try:\n",
    "        word = win32com.client.Dispatch(\"Word.Application\")\n",
    "        word.Visible = False  # Run in the background\n",
    "        \n",
    "        docx_path = doc_path + \"x\"  # Append 'x' to get .docx\n",
    "        if os.path.exists(docx_path):\n",
    "            print(f\"Skipped (already exists): {docx_path}\")\n",
    "            return\n",
    "\n",
    "        print(f\"Converting: {doc_path} -> {docx_path}\")\n",
    "        doc = word.Documents.Open(doc_path)\n",
    "        doc.SaveAs(docx_path, FileFormat=16)  # FileFormat=16 = .docx\n",
    "        doc.Close()\n",
    "        word.Quit()\n",
    "        \n",
    "        print(f\"Converted successfully: {docx_path}\")\n",
    "    except Exception as e:\n",
    "        print(f\"Error converting {doc_path}: {e}\")\n",
    "    os.remove(doc_path)\n",
    "\n",
    "\n",
    "def process_folders(root_folder):\n",
    "    \"\"\"Scans for .doc files in all subfolders and converts them.\"\"\"\n",
    "    for foldername, _, filenames in os.walk(root_folder):\n",
    "        for filename in filenames:\n",
    "            if filename.lower().endswith(\".doc\") and not filename.lower().endswith(\".docx\"):\n",
    "                doc_path = os.path.join(foldername, filename)\n",
    "                convert_doc_to_docx(doc_path)\n",
    "\n",
    "# Example usage: Change this to your root folder containing all 4 subfolders\n",
    "root_folder = r\"C:\\Resumes_Docx - Copy\"  # Update this path\n",
    "process_folders(root_folder)"
   ]
  },
  {
   "cell_type": "code",
   "execution_count": 3,
   "id": "b014c8db-ba39-42b6-94d1-c4601d15f9ca",
   "metadata": {},
   "outputs": [
    {
     "name": "stderr",
     "output_type": "stream",
     "text": [
      "[INFO] Start to convert E:\\Other Projects\\Resumes_Docx_2\\React Developer\\Reactjs Developer_Prabakaran_Musquare Technologies.pdf\n",
      "[INFO] \u001b[1;36m[1/4] Opening document...\u001b[0m\n",
      "[INFO] \u001b[1;36m[2/4] Analyzing document...\u001b[0m\n"
     ]
    },
    {
     "name": "stdout",
     "output_type": "stream",
     "text": [
      "Converting: E:\\Other Projects\\Resumes_Docx_2\\React Developer\\Reactjs Developer_Prabakaran_Musquare Technologies.pdf -> E:\\Other Projects\\Resumes_Docx_2\\React Developer\\Reactjs Developer_Prabakaran_Musquare Technologies.docx\n"
     ]
    },
    {
     "name": "stderr",
     "output_type": "stream",
     "text": [
      "[INFO] \u001b[1;36m[3/4] Parsing pages...\u001b[0m\n",
      "[INFO] (1/2) Page 1\n",
      "[INFO] (2/2) Page 2\n",
      "[INFO] \u001b[1;36m[4/4] Creating pages...\u001b[0m\n",
      "[INFO] (1/2) Page 1\n",
      "[INFO] (2/2) Page 2\n",
      "[INFO] Terminated in 1.91s.\n"
     ]
    },
    {
     "name": "stdout",
     "output_type": "stream",
     "text": [
      "Converted successfully: E:\\Other Projects\\Resumes_Docx_2\\React Developer\\Reactjs Developer_Prabakaran_Musquare Technologies.docx\n"
     ]
    }
   ],
   "source": [
    "# Convert all the pdfs into docx\n",
    "import os\n",
    "from pdf2docx import Converter\n",
    "\n",
    "def convert_pdf_to_docx(pdf_path):\n",
    "    \"\"\"Converts a .pdf file to .docx in the same directory.\"\"\"\n",
    "    try:\n",
    "        docx_path = os.path.splitext(pdf_path)[0] + \".docx\"  # Change extension to .docx\n",
    "        \n",
    "        if os.path.exists(docx_path):\n",
    "            print(f\"Skipped (already exists): {docx_path}\")\n",
    "            return\n",
    "        \n",
    "        print(f\"Converting: {pdf_path} -> {docx_path}\")\n",
    "        cv = Converter(pdf_path)\n",
    "        cv.convert(docx_path, start=0, end=None)\n",
    "        cv.close()\n",
    "        \n",
    "        print(f\"Converted successfully: {docx_path}\")\n",
    "    except Exception as e:\n",
    "        print(f\"Error converting {pdf_path}: {e}\")\n",
    "    os.remove(pdf_path)\n",
    "\n",
    "def process_folders(root_folder):\n",
    "    \"\"\"Scans for .pdf files in all subfolders and converts them.\"\"\"\n",
    "    for foldername, _, filenames in os.walk(root_folder):\n",
    "        for filename in filenames:\n",
    "            if filename.lower().endswith(\".pdf\"):\n",
    "                pdf_path = os.path.join(foldername, filename)\n",
    "                convert_pdf_to_docx(pdf_path)\n",
    "\n",
    "# Example usage: Change this to your root folder containing all 4 subfolders\n",
    "root_folder = r\"E:\\Other Projects\\Resumes_Docx_2\"  # Update this path\n",
    "process_folders(root_folder)"
   ]
  },
  {
   "cell_type": "code",
   "execution_count": 5,
   "id": "fa3221cc-53a8-45c8-a3bf-ad58f2681040",
   "metadata": {},
   "outputs": [
    {
     "name": "stderr",
     "output_type": "stream",
     "text": [
      "<>:20: SyntaxWarning: invalid escape sequence '\\O'\n",
      "<>:20: SyntaxWarning: invalid escape sequence '\\O'\n",
      "C:\\Users\\peros\\AppData\\Local\\Temp\\ipykernel_12568\\4280605125.py:20: SyntaxWarning: invalid escape sequence '\\O'\n",
      "  folder_path = \"E:\\Other Projects\\Resumes_Docx_2\"  # Replace with your folder path\n"
     ]
    },
    {
     "data": {
      "text/html": [
       "<div>\n",
       "<style scoped>\n",
       "    .dataframe tbody tr th:only-of-type {\n",
       "        vertical-align: middle;\n",
       "    }\n",
       "\n",
       "    .dataframe tbody tr th {\n",
       "        vertical-align: top;\n",
       "    }\n",
       "\n",
       "    .dataframe thead th {\n",
       "        text-align: right;\n",
       "    }\n",
       "</style>\n",
       "<table border=\"1\" class=\"dataframe\">\n",
       "  <thead>\n",
       "    <tr style=\"text-align: right;\">\n",
       "      <th></th>\n",
       "      <th>file_path</th>\n",
       "    </tr>\n",
       "  </thead>\n",
       "  <tbody>\n",
       "    <tr>\n",
       "      <th>0</th>\n",
       "      <td>E:\\Other Projects\\Resumes_Docx_2\\Peoplesoft Re...</td>\n",
       "    </tr>\n",
       "    <tr>\n",
       "      <th>1</th>\n",
       "      <td>E:\\Other Projects\\Resumes_Docx_2\\Peoplesoft Re...</td>\n",
       "    </tr>\n",
       "    <tr>\n",
       "      <th>2</th>\n",
       "      <td>E:\\Other Projects\\Resumes_Docx_2\\Peoplesoft Re...</td>\n",
       "    </tr>\n",
       "    <tr>\n",
       "      <th>3</th>\n",
       "      <td>E:\\Other Projects\\Resumes_Docx_2\\Peoplesoft Re...</td>\n",
       "    </tr>\n",
       "    <tr>\n",
       "      <th>4</th>\n",
       "      <td>E:\\Other Projects\\Resumes_Docx_2\\Peoplesoft Re...</td>\n",
       "    </tr>\n",
       "    <tr>\n",
       "      <th>...</th>\n",
       "      <td>...</td>\n",
       "    </tr>\n",
       "    <tr>\n",
       "      <th>74</th>\n",
       "      <td>E:\\Other Projects\\Resumes_Docx_2\\workday\\Sri K...</td>\n",
       "    </tr>\n",
       "    <tr>\n",
       "      <th>75</th>\n",
       "      <td>E:\\Other Projects\\Resumes_Docx_2\\workday\\Srika...</td>\n",
       "    </tr>\n",
       "    <tr>\n",
       "      <th>76</th>\n",
       "      <td>E:\\Other Projects\\Resumes_Docx_2\\workday\\SSKum...</td>\n",
       "    </tr>\n",
       "    <tr>\n",
       "      <th>77</th>\n",
       "      <td>E:\\Other Projects\\Resumes_Docx_2\\workday\\Venka...</td>\n",
       "    </tr>\n",
       "    <tr>\n",
       "      <th>78</th>\n",
       "      <td>E:\\Other Projects\\Resumes_Docx_2\\workday\\Vinay...</td>\n",
       "    </tr>\n",
       "  </tbody>\n",
       "</table>\n",
       "<p>79 rows × 1 columns</p>\n",
       "</div>"
      ],
      "text/plain": [
       "                                            file_path\n",
       "0   E:\\Other Projects\\Resumes_Docx_2\\Peoplesoft Re...\n",
       "1   E:\\Other Projects\\Resumes_Docx_2\\Peoplesoft Re...\n",
       "2   E:\\Other Projects\\Resumes_Docx_2\\Peoplesoft Re...\n",
       "3   E:\\Other Projects\\Resumes_Docx_2\\Peoplesoft Re...\n",
       "4   E:\\Other Projects\\Resumes_Docx_2\\Peoplesoft Re...\n",
       "..                                                ...\n",
       "74  E:\\Other Projects\\Resumes_Docx_2\\workday\\Sri K...\n",
       "75  E:\\Other Projects\\Resumes_Docx_2\\workday\\Srika...\n",
       "76  E:\\Other Projects\\Resumes_Docx_2\\workday\\SSKum...\n",
       "77  E:\\Other Projects\\Resumes_Docx_2\\workday\\Venka...\n",
       "78  E:\\Other Projects\\Resumes_Docx_2\\workday\\Vinay...\n",
       "\n",
       "[79 rows x 1 columns]"
      ]
     },
     "execution_count": 5,
     "metadata": {},
     "output_type": "execute_result"
    }
   ],
   "source": [
    "# Getting the data frame having path \n",
    "import os\n",
    "import pandas as pd\n",
    "\n",
    "def get_all_file_paths(folder_path):\n",
    "    \"\"\"Returns a DataFrame containing all file paths in the given folder (including subdirectories).\"\"\"\n",
    "    file_paths = []\n",
    "\n",
    "    # Walk through directory and subdirectories\n",
    "    for root, _, files in os.walk(folder_path):\n",
    "        for file in files:\n",
    "            file_paths.append(os.path.join(root, file))  # Construct full file path\n",
    "\n",
    "    # Create a DataFrame\n",
    "    df = pd.DataFrame(file_paths, columns=[\"file_path\"])\n",
    "    return df\n",
    "\n",
    "# Example usage\n",
    "folder_path = \"E:\\Other Projects\\Resumes_Docx_2\"  # Replace with your folder path\n",
    "df = get_all_file_paths(folder_path)\n",
    "\n",
    "# Display DataFrame\n",
    "df"
   ]
  },
  {
   "cell_type": "code",
   "execution_count": 45,
   "id": "ef049126-70e5-43b0-be86-2a195661370f",
   "metadata": {},
   "outputs": [],
   "source": [
    "import re\n",
    "from docx import Document\n",
    "\n",
    "def extract_text_from_docx(docx_path):\n",
    "    \"\"\"Extracts raw text from a .docx file, including tables, and removes extra spaces/newlines/tabs.\"\"\"\n",
    "    try:\n",
    "        doc = Document(docx_path)\n",
    "        \n",
    "        # Extract text from paragraphs\n",
    "        text = [para.text.strip() for para in doc.paragraphs if para.text.strip()]\n",
    "\n",
    "        # Extract text from tables\n",
    "        for table in doc.tables:\n",
    "            for row in table.rows:\n",
    "                row_text = [cell.text.strip() for cell in row.cells if cell.text.strip()]\n",
    "                if row_text:\n",
    "                    text.append(\" | \".join(row_text))  # Join table cells with \"|\"\n",
    "\n",
    "        # Join text with space and clean up excessive whitespace\n",
    "        cleaned_text = \" \".join(text)\n",
    "        cleaned_text = re.sub(r'\\s+', ' ', cleaned_text)  # Replace multiple spaces/newlines/tabs with a single space\n",
    "        \n",
    "        return cleaned_text.strip()\n",
    "    \n",
    "    except Exception as e:\n",
    "        return f\"Error reading DOCX: {e}\"\n"
   ]
  },
  {
   "cell_type": "code",
   "execution_count": 47,
   "id": "9aca5c89-7506-4b5f-95b4-b2c74c55001b",
   "metadata": {
    "scrolled": true
   },
   "outputs": [],
   "source": [
    "df['text'] = df['file_path'].apply(extract_text_from_docx)\n",
    "# df.head()"
   ]
  },
  {
   "cell_type": "code",
   "execution_count": 49,
   "id": "83f2a161-73ec-4afb-bace-7d8469695c51",
   "metadata": {},
   "outputs": [],
   "source": [
    "df['target'] = df['file_path'].apply(lambda x: x.split('\\\\')[3])"
   ]
  },
  {
   "cell_type": "code",
   "execution_count": 51,
   "id": "7fb18113-0470-490e-88cf-1086fc7ef58e",
   "metadata": {},
   "outputs": [
    {
     "data": {
      "text/html": [
       "<div>\n",
       "<style scoped>\n",
       "    .dataframe tbody tr th:only-of-type {\n",
       "        vertical-align: middle;\n",
       "    }\n",
       "\n",
       "    .dataframe tbody tr th {\n",
       "        vertical-align: top;\n",
       "    }\n",
       "\n",
       "    .dataframe thead th {\n",
       "        text-align: right;\n",
       "    }\n",
       "</style>\n",
       "<table border=\"1\" class=\"dataframe\">\n",
       "  <thead>\n",
       "    <tr style=\"text-align: right;\">\n",
       "      <th></th>\n",
       "      <th>file_path</th>\n",
       "      <th>text</th>\n",
       "      <th>target</th>\n",
       "    </tr>\n",
       "  </thead>\n",
       "  <tbody>\n",
       "    <tr>\n",
       "      <th>0</th>\n",
       "      <td>E:\\Other Projects\\Resumes_Docx_2\\Peoplesoft Re...</td>\n",
       "      <td>Anubhav Kumar Singh To work in a globally comp...</td>\n",
       "      <td>Peoplesoft Resume</td>\n",
       "    </tr>\n",
       "    <tr>\n",
       "      <th>1</th>\n",
       "      <td>E:\\Other Projects\\Resumes_Docx_2\\Peoplesoft Re...</td>\n",
       "      <td>Profile Summary: 7+ years of experience in imp...</td>\n",
       "      <td>Peoplesoft Resume</td>\n",
       "    </tr>\n",
       "    <tr>\n",
       "      <th>2</th>\n",
       "      <td>E:\\Other Projects\\Resumes_Docx_2\\Peoplesoft Re...</td>\n",
       "      <td>PeopleSoft Database Administrator Gangareddy P...</td>\n",
       "      <td>Peoplesoft Resume</td>\n",
       "    </tr>\n",
       "    <tr>\n",
       "      <th>3</th>\n",
       "      <td>E:\\Other Projects\\Resumes_Docx_2\\Peoplesoft Re...</td>\n",
       "      <td>Murali Experience Summary I have 6 years of ex...</td>\n",
       "      <td>Peoplesoft Resume</td>\n",
       "    </tr>\n",
       "    <tr>\n",
       "      <th>4</th>\n",
       "      <td>E:\\Other Projects\\Resumes_Docx_2\\Peoplesoft Re...</td>\n",
       "      <td>Priyanka Ramadoss 61/46, MountPleasant, Coonoo...</td>\n",
       "      <td>Peoplesoft Resume</td>\n",
       "    </tr>\n",
       "  </tbody>\n",
       "</table>\n",
       "</div>"
      ],
      "text/plain": [
       "                                           file_path  \\\n",
       "0  E:\\Other Projects\\Resumes_Docx_2\\Peoplesoft Re...   \n",
       "1  E:\\Other Projects\\Resumes_Docx_2\\Peoplesoft Re...   \n",
       "2  E:\\Other Projects\\Resumes_Docx_2\\Peoplesoft Re...   \n",
       "3  E:\\Other Projects\\Resumes_Docx_2\\Peoplesoft Re...   \n",
       "4  E:\\Other Projects\\Resumes_Docx_2\\Peoplesoft Re...   \n",
       "\n",
       "                                                text             target  \n",
       "0  Anubhav Kumar Singh To work in a globally comp...  Peoplesoft Resume  \n",
       "1  Profile Summary: 7+ years of experience in imp...  Peoplesoft Resume  \n",
       "2  PeopleSoft Database Administrator Gangareddy P...  Peoplesoft Resume  \n",
       "3  Murali Experience Summary I have 6 years of ex...  Peoplesoft Resume  \n",
       "4  Priyanka Ramadoss 61/46, MountPleasant, Coonoo...  Peoplesoft Resume  "
      ]
     },
     "execution_count": 51,
     "metadata": {},
     "output_type": "execute_result"
    }
   ],
   "source": [
    "df.head()"
   ]
  },
  {
   "cell_type": "code",
   "execution_count": 57,
   "id": "7c72ad29-b0e9-4bc6-afba-849ba8d13473",
   "metadata": {},
   "outputs": [],
   "source": [
    "df.to_csv('data_set_csv.csv', index=False)"
   ]
  },
  {
   "cell_type": "code",
   "execution_count": null,
   "id": "b3a32e62-ef30-4cb9-a841-badbc9b05a11",
   "metadata": {},
   "outputs": [],
   "source": []
  }
 ],
 "metadata": {
  "kernelspec": {
   "display_name": "Python 3 (ipykernel)",
   "language": "python",
   "name": "python3"
  },
  "language_info": {
   "codemirror_mode": {
    "name": "ipython",
    "version": 3
   },
   "file_extension": ".py",
   "mimetype": "text/x-python",
   "name": "python",
   "nbconvert_exporter": "python",
   "pygments_lexer": "ipython3",
   "version": "3.12.3"
  }
 },
 "nbformat": 4,
 "nbformat_minor": 5
}
