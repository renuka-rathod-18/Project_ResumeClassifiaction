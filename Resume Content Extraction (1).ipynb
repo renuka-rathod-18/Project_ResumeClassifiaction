{
 "cells": [
  {
   "cell_type": "markdown",
   "id": "c76ac994-4868-498b-88dd-42ad55cad922",
   "metadata": {},
   "source": [
    "# RESUME CLASSIFICATION"
   ]
  },
  {
   "cell_type": "markdown",
   "id": "2d9366a3-770f-4302-a495-614f724fa54d",
   "metadata": {},
   "source": [
    "## Import Required Libraries"
   ]
  },
  {
   "cell_type": "code",
   "execution_count": 8,
   "id": "ff152884-7827-410a-bde8-89a4328a1e9c",
   "metadata": {},
   "outputs": [
    {
     "name": "stdout",
     "output_type": "stream",
     "text": [
      "Collecting textract\n",
      "  Using cached textract-1.6.5-py3-none-any.whl.metadata (2.5 kB)\n",
      "  Using cached textract-1.6.4.tar.gz (17 kB)\n",
      "  Preparing metadata (setup.py): started\n",
      "  Preparing metadata (setup.py): finished with status 'error'\n"
     ]
    },
    {
     "name": "stderr",
     "output_type": "stream",
     "text": [
      "WARNING: Ignoring version 1.6.5 of textract since it has invalid metadata:\n",
      "Requested textract from https://files.pythonhosted.org/packages/6b/3e/ac16b6bf28edf78296aea7d0cb416b49ed30282ac8c711662541015ee6f3/textract-1.6.5-py3-none-any.whl has invalid metadata: .* suffix can only be used with `==` or `!=` operators\n",
      "    extract-msg (<=0.29.*)\n",
      "                 ~~~~~~~^\n",
      "Please use pip<24.1 if you need to use this version.\n",
      "  error: subprocess-exited-with-error\n",
      "  \n",
      "  python setup.py egg_info did not run successfully.\n",
      "  exit code: 1\n",
      "  \n",
      "  [3 lines of output]\n",
      "  error in textract setup command: 'install_requires' must be a string or list of strings containing valid project/version requirement specifiers; .* suffix can only be used with `==` or `!=` operators\n",
      "      extract-msg<=0.29.*\n",
      "                 ~~~~~~~^\n",
      "  [end of output]\n",
      "  \n",
      "  note: This error originates from a subprocess, and is likely not a problem with pip.\n",
      "error: metadata-generation-failed\n",
      "\n",
      "Encountered error while generating package metadata.\n",
      "\n",
      "See above for output.\n",
      "\n",
      "note: This is an issue with the package mentioned above, not pip.\n",
      "hint: See above for details.\n"
     ]
    }
   ],
   "source": [
    "!pip install textract"
   ]
  },
  {
   "cell_type": "code",
   "execution_count": 9,
   "id": "e1139f33-26ef-4b6e-ada5-08f552f92d56",
   "metadata": {},
   "outputs": [
    {
     "ename": "ModuleNotFoundError",
     "evalue": "No module named 'textract'",
     "output_type": "error",
     "traceback": [
      "\u001b[1;31m---------------------------------------------------------------------------\u001b[0m",
      "\u001b[1;31mModuleNotFoundError\u001b[0m                       Traceback (most recent call last)",
      "Cell \u001b[1;32mIn[9], line 3\u001b[0m\n\u001b[0;32m      1\u001b[0m \u001b[38;5;28;01mimport\u001b[39;00m \u001b[38;5;21;01mos\u001b[39;00m\n\u001b[0;32m      2\u001b[0m \u001b[38;5;28;01mfrom\u001b[39;00m \u001b[38;5;21;01msklearn\u001b[39;00m\u001b[38;5;21;01m.\u001b[39;00m\u001b[38;5;21;01mpreprocessing\u001b[39;00m \u001b[38;5;28;01mimport\u001b[39;00m LabelEncoder\n\u001b[1;32m----> 3\u001b[0m \u001b[38;5;28;01mimport\u001b[39;00m \u001b[38;5;21;01mtextract\u001b[39;00m\n\u001b[0;32m      4\u001b[0m \u001b[38;5;28;01mimport\u001b[39;00m \u001b[38;5;21;01mwin32com\u001b[39;00m\u001b[38;5;21;01m.\u001b[39;00m\u001b[38;5;21;01mclient\u001b[39;00m\n\u001b[0;32m      5\u001b[0m \u001b[38;5;28;01mfrom\u001b[39;00m \u001b[38;5;21;01mdocx\u001b[39;00m \u001b[38;5;28;01mimport\u001b[39;00m Document\n",
      "\u001b[1;31mModuleNotFoundError\u001b[0m: No module named 'textract'"
     ]
    }
   ],
   "source": [
    "\n",
    "import os\n",
    "from sklearn.preprocessing import LabelEncoder\n",
    "import textract\n",
    "import win32com.client\n",
    "from docx import Document\n",
    "from pdf2docx import Converter\n",
    "import re\n",
    "from nltk.tokenize import RegexpTokenizer\n",
    "from nltk.corpus import stopwords\n",
    "import pandas as pd\n",
    "import seaborn as sns\n",
    "from matplotlib import pylab\n",
    "from matplotlib import pyplot as plt"
   ]
  },
  {
   "cell_type": "markdown",
   "id": "e038f396-2195-4185-b67e-5acf231ba3e4",
   "metadata": {},
   "source": [
    "## Listing Files in a Directory"
   ]
  },
  {
   "cell_type": "code",
   "execution_count": 2,
   "id": "4c2dcd94-53ac-4fb2-bc4a-8692cbb747a0",
   "metadata": {
    "scrolled": true
   },
   "outputs": [
    {
     "name": "stdout",
     "output_type": "stream",
     "text": [
      "Files in directory: ['Peoplesoft Resume', 'React Developer', 'SQL Developer', 'workday']\n"
     ]
    }
   ],
   "source": [
    "directory_path = r\"C:\\Resumes_Docx\"\n",
    "print(\"Files in directory:\", os.listdir(directory_path))"
   ]
  },
  {
   "cell_type": "markdown",
   "id": "b4dfd5fa-769b-424e-b334-6789ac381889",
   "metadata": {},
   "source": [
    "## Converting .doc Files to .docx Format"
   ]
  },
  {
   "cell_type": "code",
   "execution_count": 3,
   "id": "b356ac73-93e9-48b7-a3eb-880f1d847048",
   "metadata": {},
   "outputs": [],
   "source": [
    "# Convert .doc to .docx\n",
    "def convert_doc_to_docx(input_path):\n",
    "    word = win32com.client.Dispatch(\"Word.Application\")\n",
    "    word.Visible = False  # Run in the background\n",
    "    \n",
    "    try:\n",
    "        doc = word.Documents.Open(os.path.abspath(input_path))\n",
    "        output_path = input_path.replace(\".doc\", \".docx\")\n",
    "        doc.SaveAs(output_path, FileFormat=16)  # 16 = wdFormatDocumentDefault (.docx)\n",
    "        doc.Close()\n",
    "        print(f\"Converted: {input_path} → {output_path}\")\n",
    "        return output_path\n",
    "    except Exception as e:\n",
    "        print(f\" Error converting {input_path}: {e}\")\n",
    "        return None\n",
    "    finally:\n",
    "        word.Quit()\n",
    "\n",
    "# Read .docx and check if it's readable\n",
    "def is_readable(docx_path):\n",
    "    try:\n",
    "        doc = Document(docx_path)\n",
    "        text = \"\\n\".join([para.text for para in doc.paragraphs])\n",
    "        return bool(text.strip())  # Return True if content is not empty\n",
    "    except Exception as e:\n",
    "        print(f\" Error reading {docx_path}: {e}\")\n",
    "        return False\n",
    "\n",
    "# Main function to process all files\n",
    "def process_resumes(base_folder):\n",
    "    data = []  # List to store results\n",
    "\n",
    "    for root, _, files in os.walk(base_folder):\n",
    "        for file in files:\n",
    "            if file.endswith(\".doc\") and not file.endswith(\".docx\"):  # Convert only .doc\n",
    "                doc_path = os.path.join(root, file)\n",
    "                docx_path = convert_doc_to_docx(doc_path)  # Convert .doc to .docx\n",
    "                \n",
    "                if docx_path:  # If conversion is successful\n",
    "                    readable = is_readable(docx_path)  # Check readability\n",
    "                    data.append({\"File Name\": file, \"Readable\": readable})\n",
    "\n",
    "\n",
    "# Define the root folder containing resumes\n",
    "resume_folder = r\"C:\\Resumes_Docx\"\n",
    "process_resumes(resume_folder)\n"
   ]
  },
  {
   "cell_type": "markdown",
   "id": "41dddde2-f7cf-43b6-9c1e-4084d8a65321",
   "metadata": {},
   "source": [
    "## Converting .pdf Files to .docx Format"
   ]
  },
  {
   "cell_type": "code",
   "execution_count": 4,
   "id": "8f51bfcd-e7e8-422e-959e-87c043918cd2",
   "metadata": {},
   "outputs": [],
   "source": [
    "def convert_pdf_to_docx(pdf_path):\n",
    "    docx_path = pdf_path.replace(\".pdf\", \".docx\")  # Output file path\n",
    "    try:\n",
    "        cv = Converter(pdf_path)\n",
    "        cv.convert(docx_path)  # Convert PDF to DOCX\n",
    "        cv.close()\n",
    "        print(f\"Converted: {pdf_path} → {docx_path}\")\n",
    "    except Exception as e:\n",
    "        print(f\"Error converting {pdf_path}: {e}\")\n",
    "\n",
    "# Define the PDF file path\n",
    "pdf_folder = r\"C:\\Resumes_Docx\\React Developer\"\n",
    "\n",
    "# Find the PDF file in the folder\n",
    "for file in os.listdir(pdf_folder):\n",
    "    if file.endswith(\".pdf\"):\n",
    "        pdf_path = os.path.join(pdf_folder, file)\n",
    "        convert_pdf_to_docx(pdf_path)\n",
    "        break  # Process only the first PDF found\n"
   ]
  },
  {
   "cell_type": "markdown",
   "id": "4ab40320-4d24-45a4-8470-4bac592a35d9",
   "metadata": {},
   "source": [
    "## Extracting Text Data from Files"
   ]
  },
  {
   "cell_type": "code",
   "execution_count": 6,
   "id": "2685ac31-d42f-4eda-8914-3d8a68592d74",
   "metadata": {},
   "outputs": [
    {
     "name": "stdout",
     "output_type": "stream",
     "text": [
      "Error processing C:\\Resumes_Docx\\Peoplesoft Resume\\Peoplesoft Admin_AnubhavSingh.docx: name 'textract' is not defined\n",
      "Error processing C:\\Resumes_Docx\\Peoplesoft Resume\\Peoplesoft Admin_G Ananda Rayudu.docx: name 'textract' is not defined\n",
      "Error processing C:\\Resumes_Docx\\Peoplesoft Resume\\Peoplesoft Admin_Gangareddy.docx: name 'textract' is not defined\n",
      "Error processing C:\\Resumes_Docx\\Peoplesoft Resume\\Peoplesoft Admin_Murali.docx: name 'textract' is not defined\n",
      "Error processing C:\\Resumes_Docx\\Peoplesoft Resume\\Peoplesoft Admin_Priyanka Ramadoss.docx: name 'textract' is not defined\n",
      "Error processing C:\\Resumes_Docx\\Peoplesoft Resume\\Peoplesoft Admin_SirazuddinMohammad.docx: name 'textract' is not defined\n",
      "Error processing C:\\Resumes_Docx\\Peoplesoft Resume\\Peoplesoft Admin_srinivasarao.docx: name 'textract' is not defined\n",
      "Error processing C:\\Resumes_Docx\\Peoplesoft Resume\\Peoplesoft Admin_Varkala Vikas.docx: name 'textract' is not defined\n",
      "Error processing C:\\Resumes_Docx\\Peoplesoft Resume\\Peoplesoft Admin_Vinod Akkala.docx: name 'textract' is not defined\n",
      "Error processing C:\\Resumes_Docx\\Peoplesoft Resume\\PeopleSoft DBA_Ganesh Alladi.docx: name 'textract' is not defined\n",
      "Error processing C:\\Resumes_Docx\\Peoplesoft Resume\\PeopleSoft DBA_Vivekanand Sayana.docx: name 'textract' is not defined\n",
      "Error processing C:\\Resumes_Docx\\Peoplesoft Resume\\Peoplesoft Finance_Arun Venu.docx: name 'textract' is not defined\n",
      "Error processing C:\\Resumes_Docx\\Peoplesoft Resume\\Peoplesoft Finance_Pritam Biswas.docx: name 'textract' is not defined\n",
      "Error processing C:\\Resumes_Docx\\Peoplesoft Resume\\Peoplesoft Finance_Rahul Ahuja.docx: name 'textract' is not defined\n",
      "Error processing C:\\Resumes_Docx\\Peoplesoft Resume\\Peoplesoft FSCM_HariNarayana.docx: name 'textract' is not defined\n",
      "Error processing C:\\Resumes_Docx\\Peoplesoft Resume\\Peoplesoft FSCM_Murali.docx: name 'textract' is not defined\n",
      "Error processing C:\\Resumes_Docx\\Peoplesoft Resume\\Peoplesoft FSCM_PriyabrataHota.docx: name 'textract' is not defined\n",
      "Error processing C:\\Resumes_Docx\\Peoplesoft Resume\\Peoplesoft FSCM_R Ahmed.docx: name 'textract' is not defined\n",
      "Error processing C:\\Resumes_Docx\\Peoplesoft Resume\\Peoplesoft FSCM_SUJATHA.docx: name 'textract' is not defined\n",
      "Error processing C:\\Resumes_Docx\\Peoplesoft Resume\\Resume_Subha Santosh_Peoplesoft FSCM.docx: name 'textract' is not defined\n",
      "Error processing C:\\Resumes_Docx\\Peoplesoft Resume\\~$oplesoft Admin_Vinod Akkala.docx: name 'textract' is not defined\n",
      "Error processing C:\\Resumes_Docx\\React Developer\\Internship_Ravali_Musquare Technologies (1).docx: name 'textract' is not defined\n",
      "Error processing C:\\Resumes_Docx\\React Developer\\Internship_Susovan Bag_Musquare Technologies.docx: name 'textract' is not defined\n",
      "Error processing C:\\Resumes_Docx\\React Developer\\React Developer_Deepakreddy.docx: name 'textract' is not defined\n",
      "Error processing C:\\Resumes_Docx\\React Developer\\React Developer_Haripriya.docx: name 'textract' is not defined\n",
      "Error processing C:\\Resumes_Docx\\React Developer\\React Developer_Kamalakar Reddy.docx: name 'textract' is not defined\n",
      "Error processing C:\\Resumes_Docx\\React Developer\\React Developer_Naveen sadhu.docx: name 'textract' is not defined\n",
      "Error processing C:\\Resumes_Docx\\React Developer\\React Developer_PavasGoswami.docx: name 'textract' is not defined\n",
      "Error processing C:\\Resumes_Docx\\React Developer\\React Developer_Pragnya.docx: name 'textract' is not defined\n",
      "Error processing C:\\Resumes_Docx\\React Developer\\React Developer_Sarala Madasu-converted.docx: name 'textract' is not defined\n",
      "Error processing C:\\Resumes_Docx\\React Developer\\React Developer_Thirupathiamma.docx: name 'textract' is not defined\n",
      "Error processing C:\\Resumes_Docx\\React Developer\\React Developer_Vinay Reddy.docx: name 'textract' is not defined\n",
      "Error processing C:\\Resumes_Docx\\React Developer\\React Dev_Krishna Kanth.docx: name 'textract' is not defined\n",
      "Error processing C:\\Resumes_Docx\\React Developer\\React Dev_Krishna Kanth_Musquare Technologies.docx: name 'textract' is not defined\n",
      "Error processing C:\\Resumes_Docx\\React Developer\\React JS Developer_AnjaniPriyadarshini.docx: name 'textract' is not defined\n",
      "Error processing C:\\Resumes_Docx\\React Developer\\React JS Developer_KotaniDurgaprasad[3_1] (1)-converted.docx: name 'textract' is not defined\n",
      "Error processing C:\\Resumes_Docx\\React Developer\\React JS Developer_Venkatalakshmi (1)-converted.docx: name 'textract' is not defined\n",
      "Error processing C:\\Resumes_Docx\\React Developer\\Reactjs Developer_kambala sai surendra_Musquare Technologies.docx: name 'textract' is not defined\n",
      "Error processing C:\\Resumes_Docx\\React Developer\\Reactjs Developer_M Lokesh Babu_Musquare Technologies.docx: name 'textract' is not defined\n",
      "Error processing C:\\Resumes_Docx\\React Developer\\Reactjs Developer_M Lokesh.docx: name 'textract' is not defined\n",
      "Error processing C:\\Resumes_Docx\\React Developer\\Reactjs Developer_MD Khizaruddin Rauf _Musquare Technologies.docx: name 'textract' is not defined\n",
      "Error processing C:\\Resumes_Docx\\React Developer\\Reactjs Developer_Prabakaran_Musquare Technologies.docx: name 'textract' is not defined\n",
      "Error processing C:\\Resumes_Docx\\React Developer\\Reactjs Developer_Pranish Sonone_Musquare Technologies.docx: name 'textract' is not defined\n",
      "Error processing C:\\Resumes_Docx\\React Developer\\Reactjs Developer_Ranga Gaganam_Musquare Technologies.docx: name 'textract' is not defined\n",
      "Error processing C:\\Resumes_Docx\\React Developer\\Reactjs Developer_Shaik Abdul Sharuk_Musquare Technologies.docx: name 'textract' is not defined\n",
      "Error processing C:\\Resumes_Docx\\SQL Developer\\Anil kumar.docx: name 'textract' is not defined\n",
      "Error processing C:\\Resumes_Docx\\SQL Developer\\AradhanaTripathi[4_0].docx: name 'textract' is not defined\n",
      "Error processing C:\\Resumes_Docx\\SQL Developer\\Buddha Vamsi.docx: name 'textract' is not defined\n",
      "Error processing C:\\Resumes_Docx\\SQL Developer\\kamballapradeep.docx: name 'textract' is not defined\n",
      "Error processing C:\\Resumes_Docx\\SQL Developer\\Nazeer Basha.docx: name 'textract' is not defined\n",
      "Error processing C:\\Resumes_Docx\\SQL Developer\\Neeraj Mishra.docx: name 'textract' is not defined\n",
      "Error processing C:\\Resumes_Docx\\SQL Developer\\premsai.docx: name 'textract' is not defined\n",
      "Error processing C:\\Resumes_Docx\\SQL Developer\\Priyanka L.docx: name 'textract' is not defined\n",
      "Error processing C:\\Resumes_Docx\\SQL Developer\\PSyamKumar[2_3].docx: name 'textract' is not defined\n",
      "Error processing C:\\Resumes_Docx\\SQL Developer\\Rajupavanakumari[2_10].docx: name 'textract' is not defined\n",
      "Error processing C:\\Resumes_Docx\\SQL Developer\\Ramalakshmi K.docx: name 'textract' is not defined\n",
      "Error processing C:\\Resumes_Docx\\SQL Developer\\RameshNataru[3_4].docx: name 'textract' is not defined\n",
      "Error processing C:\\Resumes_Docx\\SQL Developer\\Tatikonda Kiran Kumar.docx: name 'textract' is not defined\n",
      "Error processing C:\\Resumes_Docx\\SQL Developer\\Vinod B.docx: name 'textract' is not defined\n",
      "Error processing C:\\Resumes_Docx\\workday\\ChinnaSubbarayuduM_Hexaware.docx: name 'textract' is not defined\n",
      "Error processing C:\\Resumes_Docx\\workday\\Gopi Krishna_Hexaware.docx: name 'textract' is not defined\n",
      "Error processing C:\\Resumes_Docx\\workday\\Hari Krishna M_Hexaware.docx: name 'textract' is not defined\n",
      "Error processing C:\\Resumes_Docx\\workday\\Harikrishna Akula_Hexaware.docx: name 'textract' is not defined\n",
      "Error processing C:\\Resumes_Docx\\workday\\Hima Mendu_Hexaware.docx: name 'textract' is not defined\n",
      "Error processing C:\\Resumes_Docx\\workday\\Himaja G_(Hexaware).docx: name 'textract' is not defined\n",
      "Error processing C:\\Resumes_Docx\\workday\\J. Sumanth Royal_Hexaware.docx: name 'textract' is not defined\n",
      "Error processing C:\\Resumes_Docx\\workday\\Jyotiverma_Heaware.docx: name 'textract' is not defined\n",
      "Error processing C:\\Resumes_Docx\\workday\\Madeeswar A_Hexaware.docx: name 'textract' is not defined\n",
      "Error processing C:\\Resumes_Docx\\workday\\MooraboyinaGuravaiah_Hexaware.docx: name 'textract' is not defined\n",
      "Error processing C:\\Resumes_Docx\\workday\\Naresh Babu Cherukuri_Hexaware.docx: name 'textract' is not defined\n",
      "Error processing C:\\Resumes_Docx\\workday\\P V Sai Krishna_ Hexaware.docx: name 'textract' is not defined\n",
      "Error processing C:\\Resumes_Docx\\workday\\Punugoti Swetha_Hexaware.docx: name 'textract' is not defined\n",
      "Error processing C:\\Resumes_Docx\\workday\\RahulM_Hexaware.docx: name 'textract' is not defined\n",
      "Error processing C:\\Resumes_Docx\\workday\\RameshP_Hexaware.docx: name 'textract' is not defined\n",
      "Error processing C:\\Resumes_Docx\\workday\\Sri Krishna S_Hexaware.docx: name 'textract' is not defined\n",
      "Error processing C:\\Resumes_Docx\\workday\\Srikanth-Hexaware.docx: name 'textract' is not defined\n",
      "Error processing C:\\Resumes_Docx\\workday\\SSKumar_Hexaware.docx: name 'textract' is not defined\n",
      "Error processing C:\\Resumes_Docx\\workday\\Venkateswarlu B_Hexaware.docx: name 'textract' is not defined\n",
      "Error processing C:\\Resumes_Docx\\workday\\Vinay Kumar_Hexaware.docx: name 'textract' is not defined\n"
     ]
    }
   ],
   "source": [
    "import os\n",
    "import textract\n",
    "import pandas as pd\n",
    "\n",
    "base_dir = r\"C:\\Resumes_Docx\" # Change this path as needed\n",
    "\n",
    "file_data = []\n",
    "\n",
    "for root, dirs, files in os.walk(base_dir, topdown=False):\n",
    "    category = os.path.basename(root)  # Use folder name as category\n",
    "    for name in files:\n",
    "        if name.endswith(\".docx\"):\n",
    "            file_path = os.path.join(root, name)\n",
    "            try:\n",
    "                text = textract.process(file_path).decode('utf-8')\n",
    "                file_data.append({\"Raw_Details\": text, \"Category\": category})\n",
    "            except Exception as e:\n",
    "                print(f\"Error processing {file_path}: {e}\")\n"
   ]
  },
  {
   "cell_type": "markdown",
   "id": "54430777-c8fc-48c9-925e-7dda5ffa974e",
   "metadata": {},
   "source": [
    "## Building a DataFrame from Extracted Data"
   ]
  },
  {
   "cell_type": "code",
   "execution_count": null,
   "id": "7533988e-2807-4bdc-b54e-e1fb1fecd5f9",
   "metadata": {},
   "outputs": [],
   "source": [
    "# Convert to DataFrame\n",
    "data = pd.DataFrame(file_data)\n",
    "data"
   ]
  },
  {
   "cell_type": "code",
   "execution_count": null,
   "id": "ba03c0a0-46fd-4138-929d-f98cd0b59bce",
   "metadata": {},
   "outputs": [],
   "source": [
    "data['Category'].unique()"
   ]
  },
  {
   "cell_type": "markdown",
   "id": "56001040-fd1e-45ac-8c5e-e8122b1d6e70",
   "metadata": {},
   "source": [
    "## Encoding Categorical Data with Label Encoder"
   ]
  },
  {
   "cell_type": "code",
   "execution_count": null,
   "id": "603c3a50-8ce1-4b57-be9b-1a75c04c2d0b",
   "metadata": {},
   "outputs": [],
   "source": [
    "encode = LabelEncoder()"
   ]
  },
  {
   "cell_type": "code",
   "execution_count": null,
   "id": "22620382-0a54-4d3d-88b1-830fd2f291c1",
   "metadata": {},
   "outputs": [],
   "source": [
    "data['Categories'] = encode.fit_transform(data['Category'])"
   ]
  },
  {
   "cell_type": "code",
   "execution_count": null,
   "id": "d640bec1-0292-42ef-b944-447db8165bfe",
   "metadata": {},
   "outputs": [],
   "source": [
    "data"
   ]
  },
  {
   "cell_type": "markdown",
   "id": "d49568f0-f39e-409b-b9db-30239bcdd27c",
   "metadata": {},
   "source": [
    "## Removing Extra Columns"
   ]
  },
  {
   "cell_type": "code",
   "execution_count": null,
   "id": "a98dca75-53c7-45a8-a91a-1d121f1b6cb5",
   "metadata": {},
   "outputs": [],
   "source": [
    "data = data.drop(columns = ['Category'])"
   ]
  },
  {
   "cell_type": "code",
   "execution_count": null,
   "id": "754c013c-541c-4f51-8753-5a85462eb0fa",
   "metadata": {},
   "outputs": [],
   "source": [
    "data"
   ]
  },
  {
   "cell_type": "markdown",
   "id": "9d2911a7-f01f-4046-a96f-508f3f0e8bdc",
   "metadata": {},
   "source": [
    "## Saving DataFrame as CSV File"
   ]
  },
  {
   "cell_type": "code",
   "execution_count": null,
   "id": "6dbcf9ce-6b07-4401-ad25-e59e996f0da2",
   "metadata": {},
   "outputs": [],
   "source": [
    "data.to_csv('Raw_Resumes.csv', index=False)"
   ]
  },
  {
   "cell_type": "code",
   "execution_count": null,
   "id": "9596b4a2-7981-484c-a8d2-0d5f1b30323b",
   "metadata": {},
   "outputs": [],
   "source": [
    "resume_data = pd.read_csv(\"Raw_Resumes.csv\")\n",
    "resume_data"
   ]
  },
  {
   "cell_type": "markdown",
   "id": "8a29081a-ef51-41bd-9e27-c452ca09310c",
   "metadata": {},
   "source": [
    "## Tokenizing and Cleaning Text"
   ]
  },
  {
   "cell_type": "code",
   "execution_count": null,
   "id": "fab95f46-910e-4e59-9ff1-c187a5f928f0",
   "metadata": {},
   "outputs": [],
   "source": [
    "def preprocess(sentence):\n",
    "    sentence = str(sentence)  # Convert input to string to ensure consistency\n",
    "    sentence = sentence.lower()  # Convert all text to lowercase to normalize case\n",
    "    sentence = sentence.replace('{html}',\"\")  # Remove '{html}' tag if present in the text\n",
    "     # Remove HTML tags using regex\n",
    "    cleanr = re.compile('<.*?>')  # Pattern to match HTML tags\n",
    "    cleantext = re.sub(cleanr, '', sentence)   # Replace HTML tags with an empty string\n",
    "    rem_url = re.sub(r'http\\S+', '',cleantext)  # Remove URLs from text using regex pattern that matches 'http' followed by any non-space characters\n",
    "    rem_num = re.sub('[0-9]+', '', rem_url)  # Remove numbers from text using regex (matches all digits 0-9)\n",
    "     # Tokenize text using RegexpTokenizer (splits words and removes punctuation)\n",
    "    tokenizer = RegexpTokenizer(r'\\w+')  # Tokenizer that keeps only words (alphanumeric)\n",
    "    tokens = tokenizer.tokenize(rem_num) \n",
    "    # Remove stopwords (common words like \"the\", \"is\", \"and\") and filter words with less than 3 letters\n",
    "    filtered_words = [w for w in tokens if len(w) > 2 if not w in stopwords.words('english')]\n",
    "\n",
    "    return \" \".join(filtered_words)"
   ]
  },
  {
   "cell_type": "code",
   "execution_count": null,
   "id": "89cd4ee5-1c09-4de9-aacf-997b53f91691",
   "metadata": {},
   "outputs": [],
   "source": [
    "resume_data['Resume_Details'] = resume_data.Raw_Details.apply(lambda x: preprocess(x))"
   ]
  },
  {
   "cell_type": "code",
   "execution_count": null,
   "id": "d35f182e-f5ca-4255-8d47-fb9d6fe380e2",
   "metadata": {},
   "outputs": [],
   "source": [
    "resume_data"
   ]
  },
  {
   "cell_type": "markdown",
   "id": "12866f64-8057-4f78-a8a5-d3233475031a",
   "metadata": {},
   "source": [
    "## Removing Extra Columns"
   ]
  },
  {
   "cell_type": "code",
   "execution_count": null,
   "id": "992cff6c-3ffb-4d87-8e0e-3a650107eb19",
   "metadata": {},
   "outputs": [],
   "source": [
    "resume_data.drop(['Raw_Details'], axis = 1, inplace = True)\n",
    "resume_data"
   ]
  },
  {
   "cell_type": "markdown",
   "id": "2b2b07e8-07e1-42d4-b43e-ee3840b84914",
   "metadata": {},
   "source": [
    "## Reordering Columns in DataFrame"
   ]
  },
  {
   "cell_type": "code",
   "execution_count": null,
   "id": "a17d89e2-814f-443e-96cc-b479c5d198ba",
   "metadata": {},
   "outputs": [],
   "source": [
    "resume_data = resume_data[['Resume_Details', 'Categories']]  # Reordering columns"
   ]
  },
  {
   "cell_type": "code",
   "execution_count": null,
   "id": "4b68077d-a090-4a99-91de-ec9496a1fb2c",
   "metadata": {},
   "outputs": [],
   "source": [
    "resume_data"
   ]
  },
  {
   "cell_type": "markdown",
   "id": "13b690d7-0e17-4d26-a5f5-b4f08743b9ea",
   "metadata": {},
   "source": [
    "## Saving Cleaned Data to CSV"
   ]
  },
  {
   "cell_type": "code",
   "execution_count": null,
   "id": "1921e877-92a8-4c9c-8a79-d2719a88ec47",
   "metadata": {},
   "outputs": [],
   "source": [
    "resume_data.to_csv('Cleaned_Resumes.csv', index = False)"
   ]
  },
  {
   "cell_type": "code",
   "execution_count": null,
   "id": "3ac35a69-e3ea-484d-a935-147e1be1ba8a",
   "metadata": {},
   "outputs": [],
   "source": [
    "resume_data = pd.read_csv('Cleaned_Resumes.csv')\n",
    "resume_data"
   ]
  },
  {
   "cell_type": "markdown",
   "id": "bc8bad76-416e-4195-ac90-50222a2a4ef7",
   "metadata": {},
   "source": [
    "## Resume Content After Preprocessing"
   ]
  },
  {
   "cell_type": "code",
   "execution_count": null,
   "id": "8fc2b655-7060-4e97-b658-3fea0ff61f1f",
   "metadata": {},
   "outputs": [],
   "source": [
    "resume_data.Resume_Details[1]"
   ]
  },
  {
   "cell_type": "code",
   "execution_count": null,
   "id": "04d2292f-b50f-433f-9e62-72db31d29a41",
   "metadata": {},
   "outputs": [],
   "source": []
  }
 ],
 "metadata": {
  "kernelspec": {
   "display_name": "Python 3 (ipykernel)",
   "language": "python",
   "name": "python3"
  },
  "language_info": {
   "codemirror_mode": {
    "name": "ipython",
    "version": 3
   },
   "file_extension": ".py",
   "mimetype": "text/x-python",
   "name": "python",
   "nbconvert_exporter": "python",
   "pygments_lexer": "ipython3",
   "version": "3.12.7"
  }
 },
 "nbformat": 4,
 "nbformat_minor": 5
}
